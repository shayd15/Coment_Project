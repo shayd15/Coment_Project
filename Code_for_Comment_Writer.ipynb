{
 "cells": [
  {
   "cell_type": "markdown",
   "metadata": {
    "collapsed": false
   },
   "source": [
    "### Comment Writing Engine\n",
    "\n",
    "#### an application to help teachers write better comments in less time\n"
   ]
  },
  {
   "cell_type": "code",
   "execution_count": 50,
   "metadata": {
    "collapsed": false
   },
   "outputs": [
   ],
   "source": [
    "# functions and code for reading data files, generating comments and writing them to files\n",
    "import csv\n",
    "\n",
    "course_description = \"This semester in US History, we considered the factors and forces that led to the Civil War, examined the changes caused by the war itself, including the perspectives of ordinary soldiers and extraordinary leaders as we looked to understand how the entire U.S. fought to remake the nation.\"\n",
    "\n",
    "Learning_targets = {'LO1':'analyzed literary texts through close reading and critical interpretation', 'LO2': 'used your written communication skills, articulated clear arguments, and supported them with textual evidence', 'LO3':'located, evaluated, and synthesized relevant sources','LO4':'engaged in collaborative activities and discussions','LO5':'demonstrated critical thinking skills by analyzing complex problems, synthesizing diverse perspectives, and formulating well-reasoned conclusions'}\n",
    "\n",
    "\n",
    "def strengths(line):\n",
    "    '''takes in a line from the spreadsheet and returns the section of strengths'''\n",
    "    name = line[1]\n",
    "    strength = line[3]\n",
    "    row = line[4].split(':')\n",
    "    comment = f\"{name}, you {strength}. You demonstrated your strength in the {row[1]} where you recieved {article(line)} {row[0]}. \"\n",
    "    if row[2] == ' LO1':\n",
    "        return comment + f\"In this assignment you {Learning_targets.get('LO1')}.\"\n",
    "    if row[2] == ' LO2':\n",
    "         return comment + f\"In this assignment you {Learning_targets.get('LO2')} very well.\"\n",
    "    if row[2] == ' LO3':\n",
    "        return comment + f\"In this assignment you {Learning_targets.get('LO3')} very well.\" \n",
    "    if row[2] == ' LO4':\n",
    "        return comment + f\"In this assignment you {Learning_targets.get('LO4')}.\" \n",
    "    if row[2] == ' LO5':\n",
    "        return comment + f\"In this assignment you {Learning_targets.get('LO5')}.\" \n",
    "\n",
    "def area_of_growth(line):\n",
    "    '''takes in a line from the spreadsheet and returns the section of area of growth'''\n",
    "    name = line[1]\n",
    "    row = line[6].split(':')\n",
    "    comment = f\"{name}, an area of growth for you is to {line[5]}. One Assignment you struggled on was the {row[1]}, and we will look to delevop this area of your learning in the future. \"\n",
    "    if row[2] == ' LO1':\n",
    "        return comment + f\"In this activity you could have {Learning_targets.get('LO1')} better.\"\n",
    "    if row[2] == ' LO2':\n",
    "         return comment + f\"In this activity you could have {Learning_targets.get('LO2')} better.\"\n",
    "    if row[2] == ' LO3':\n",
    "        return comment + f\"In this activity you could have {Learning_targets.get('LO3')} better.\" \n",
    "    if row[2] == ' LO4':\n",
    "        return comment + f\"In this activity you could have {Learning_targets.get('LO4')} better.\" \n",
    "    if row[2] == ' LO5':\n",
    "        return comment + f\"In this activity you could have {Learning_targets.get('LO5')} better.\" \n",
    "\n",
    "def article(line):\n",
    "    if 'A' in line[2]:\n",
    "        return('an')\n",
    "    else:\n",
    "        return('a')\n",
    "    \n",
    "def grade_description(line):\n",
    "    grade = line[2]\n",
    "    if grade == \"A\" or grade == \"A-\":\n",
    "        return f\"Receiving an {grade} in your general class is a testament to your hard work and dedication to mastering the subject matter. Your consistent effort in completing assignments, actively participating in discussions, and seeking additional help when needed has paid off in your academic achievement. Your success in this class demonstrates your commitment to excellence and sets a strong foundation for future learning endeavors.\"\n",
    "    elif grade == 'B+':\n",
    "        return \"Receiving a B+ in your general class signifies a commendable performance and solid grasp of the course material. Despite some challenges along the way, your perseverance and dedication to learning have paid off in achieving this respectable grade. Use this experience as motivation to continue improving and striving for even greater success in your future academic pursuits.\"\n",
    "    elif grade == 'B' or grade == \"B-\":\n",
    "        return f\"Receiving a {grade} in your general class shows that you have a good understanding of the material, although there may be areas where you could improve. Reflect on your performance and identify areas where you can focus your efforts to enhance your understanding and achieve better results in the future. Your determination and willingness to learn will undoubtedly lead to even greater success in your academic journey.\"\n",
    "    else:\n",
    "        return f\"Receiving a {grade} in your general class indicates that there were some challenges in grasping certain aspects of the material, but you've still demonstrated effort and perseverance. Take this opportunity to reflect on your study habits and seek additional support where needed to strengthen your understanding. With dedication and a proactive approach to learning, you can improve your performance and achieve your academic goals.\"\n",
    "\n",
    "\n",
    "\n",
    "def conclude(line): \n",
    "    '''takes in a line from the spreadsheet and returns the conclusion'''\n",
    "    return f\"{line[1]}, you have earned {article(line)} {line[2]}. {grade_description(line)} Also, {line[-2]}. You {line[-1]}.\"\n",
    "\n",
    "\n",
    "with open('Coding Project - Sheet1 (8).csv') as f:\n",
    "    info = csv.reader(f, delimiter = ',')\n",
    "    header = next(info)\n",
    "    for row in info:\n",
    "        student_file = open(f\"{row[1]}.txt\",\"w\")\n",
    "        student_file.write(course_description+'\\n\\n'+strengths(row)+'\\n\\n'+area_of_growth(row)+'\\n\\n'+conclude(row)+'\\n\\n')\n",
    "    student_file.close()  \n",
    "    "
   ]
  },
  {
   "cell_type": "code",
   "execution_count": 49,
   "metadata": {
    "collapsed": false
   },
   "outputs": [
   ],
   "source": [
   ]
  },
  {
   "cell_type": "code",
   "execution_count": 0,
   "metadata": {
    "collapsed": false
   },
   "outputs": [
   ],
   "source": [
   ]
  }
 ],
 "metadata": {
  "kernelspec": {
   "argv": [
    "/ext/jupyter/kernels/anaconda2022/launch.sh",
    "{connection_file}"
   ],
   "display_name": "Python 3 (Anaconda 2022)",
   "env": {
   },
   "language": "python",
   "metadata": {
    "cocalc": {
     "description": "Anaconda 2022.05 Python 3 environment",
     "priority": 5,
     "url": "https://www.anaconda.com/distribution/"
    }
   },
   "name": "anaconda2022",
   "resource_dir": "/ext/jupyter/kernels/anaconda2022"
  },
  "language_info": {
   "codemirror_mode": {
    "name": "ipython",
    "version": 3
   },
   "file_extension": ".py",
   "mimetype": "text/x-python",
   "name": "python",
   "nbconvert_exporter": "python",
   "pygments_lexer": "ipython3",
   "version": "3.9.15"
  }
 },
 "nbformat": 4,
 "nbformat_minor": 4
}